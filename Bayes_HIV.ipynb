{
  "nbformat": 4,
  "nbformat_minor": 0,
  "metadata": {
    "colab": {
      "name": "Bayes_HIV.ipynb",
      "provenance": []
    },
    "kernelspec": {
      "name": "python3",
      "display_name": "Python 3"
    },
    "language_info": {
      "name": "python"
    }
  },
  "cells": [
    {
      "cell_type": "code",
      "execution_count": 56,
      "metadata": {
        "colab": {
          "base_uri": "https://localhost:8080/",
          "height": 444
        },
        "id": "tQyX0S76j61m",
        "outputId": "35993ea8-fcb2-4cda-b517-d2e609ce6c28"
      },
      "outputs": [
        {
          "output_type": "display_data",
          "data": {
            "text/plain": [
              "<IPython.core.display.Markdown object>"
            ],
            "text/markdown": "$p(HIV)=\\;$0.0001 is the __prevalence__, the number of cases in a defined population and is expressed as a decimal or a percentage."
          },
          "metadata": {}
        },
        {
          "output_type": "display_data",
          "data": {
            "text/plain": [
              "<IPython.core.display.Markdown object>"
            ],
            "text/markdown": "$\\ $ "
          },
          "metadata": {}
        },
        {
          "output_type": "display_data",
          "data": {
            "text/plain": [
              "<IPython.core.display.Markdown object>"
            ],
            "text/markdown": "$p(no\\ HIV)=\\;$0.9999 is the complement of prevalence."
          },
          "metadata": {}
        },
        {
          "output_type": "display_data",
          "data": {
            "text/plain": [
              "<IPython.core.display.Markdown object>"
            ],
            "text/markdown": "$\\ $ "
          },
          "metadata": {}
        },
        {
          "output_type": "display_data",
          "data": {
            "text/plain": [
              "<IPython.core.display.Markdown object>"
            ],
            "text/markdown": "$p(pos|HIV)=\\;$0.998 is the __sensitivity__, or the rate of true positives."
          },
          "metadata": {}
        },
        {
          "output_type": "display_data",
          "data": {
            "text/plain": [
              "<IPython.core.display.Markdown object>"
            ],
            "text/markdown": "$\\ $ "
          },
          "metadata": {}
        },
        {
          "output_type": "display_data",
          "data": {
            "text/plain": [
              "<IPython.core.display.Markdown object>"
            ],
            "text/markdown": "$p(no\\ pos|HIV)=\\;$0.0020000000000000018 is the complement of sensitivity, or the rate of false negatives."
          },
          "metadata": {}
        },
        {
          "output_type": "display_data",
          "data": {
            "text/plain": [
              "<IPython.core.display.Markdown object>"
            ],
            "text/markdown": "$\\ $ "
          },
          "metadata": {}
        },
        {
          "output_type": "display_data",
          "data": {
            "text/plain": [
              "<IPython.core.display.Markdown object>"
            ],
            "text/markdown": "$p(no\\ pos|no\\ HIV)=\\;$0.9999 is the __specificity__, or the rate of true negatives."
          },
          "metadata": {}
        },
        {
          "output_type": "display_data",
          "data": {
            "text/plain": [
              "<IPython.core.display.Markdown object>"
            ],
            "text/markdown": "$\\ $ "
          },
          "metadata": {}
        },
        {
          "output_type": "display_data",
          "data": {
            "text/plain": [
              "<IPython.core.display.Markdown object>"
            ],
            "text/markdown": "$p(pos|no\\ HIV)=\\;$0.9999 is the complement of specificity, or the rate of false positives."
          },
          "metadata": {}
        },
        {
          "output_type": "display_data",
          "data": {
            "text/plain": [
              "<IPython.core.display.Markdown object>"
            ],
            "text/markdown": "$\\ $ "
          },
          "metadata": {}
        },
        {
          "output_type": "display_data",
          "data": {
            "text/plain": [
              "<IPython.core.display.Markdown object>"
            ],
            "text/markdown": "$PPV\\;$ is the __positive predictive value__, that is the probability that following a positive test result, that individual will truly have that specific disease."
          },
          "metadata": {}
        },
        {
          "output_type": "display_data",
          "data": {
            "text/plain": [
              "<IPython.core.display.Markdown object>"
            ],
            "text/markdown": "$\\ $ "
          },
          "metadata": {}
        },
        {
          "output_type": "display_data",
          "data": {
            "text/plain": [
              "<IPython.core.display.Markdown object>"
            ],
            "text/markdown": "$PPV=\\dfrac{p(HIV)p(pos|HIV)}{p(HIV)p(pos|HIV)+p(no\\ HIV)p(pos|no\\ HIV)} =\\quad$0.49952450072578963"
          },
          "metadata": {}
        }
      ],
      "source": [
        "# https://geekymedics.com/sensitivity-specificity-ppv-and-npv/#:~:text=Sensitivity%20is%20the%20percentage%20of,target%20disease%20will%20test%20negative).\n",
        "\n",
        "# https://www.researchgate.net/publication/13658428_AIDS_Counseling_for_low-risk_clients\n",
        "\n",
        "\n",
        "\n",
        "from IPython.display import display, Math, Markdown, Latex, display_markdown\n",
        "\n",
        "\n",
        "p_HIV=0.0001       #prevalence, tasso di presenza della malattia nella popolazione totale considerata\n",
        "p_noHIV = 1-p_HIV\n",
        "\n",
        "p_pos_se_HIV= 0.998   #sensitivity, probabilità di un vero positivo\n",
        "p_nopos_se_HIV = 1-p_pos_se_HIV  #falsi negativi\n",
        "\n",
        "p_nopos_se_noHIV = 0.9999  #specificity,  veri negativi\n",
        "p_pos_se_noHIV = 1-p_nopos_se_noHIV  #falsi positivi\n",
        "\n",
        "\n",
        "PPV = p_HIV*p_pos_se_HIV/(p_HIV*p_pos_se_HIV+p_noHIV*p_pos_se_noHIV)\n",
        "\n",
        "display(Markdown(r'$p(HIV)=\\;$'+str(p_HIV)+' is the __prevalence__, the number of cases in a defined population and is expressed as a decimal or a percentage.'))\n",
        "\n",
        "display(Markdown('$\\ $ '))\n",
        "\n",
        "display(Markdown(r'$p(no\\ HIV)=\\;$'+str(p_noHIV)+' is the complement of prevalence.'))\n",
        "\n",
        "display(Markdown('$\\ $ '))\n",
        "\n",
        "display(Markdown(r'$p(pos|HIV)=\\;$'+str(p_pos_se_HIV)+' is the __sensitivity__, or the rate of true positives.'))\n",
        "\n",
        "display(Markdown('$\\ $ '))\n",
        "\n",
        "display(Markdown(r'$p(no\\ pos|HIV)=\\;$'+str(p_nopos_se_HIV)+' is the complement of sensitivity, or the rate of false negatives.'))\n",
        "\n",
        "display(Markdown('$\\ $ '))\n",
        "\n",
        "display(Markdown(r'$p(no\\ pos|no\\ HIV)=\\;$'+str(p_nopos_se_noHIV )+' is the __specificity__, or the rate of true negatives.'))\n",
        "\n",
        "display(Markdown('$\\ $ '))\n",
        "\n",
        "display(Markdown(r'$p(pos|no\\ HIV)=\\;$'+str(p_nopos_se_noHIV)+' is the complement of specificity, or the rate of false positives.'))\n",
        "\n",
        "display(Markdown('$\\ $ '))\n",
        "\n",
        "display(Markdown(r'$PPV\\;$'+' is the __positive predictive value__, that is the probability that following a positive test result, that individual will truly have that specific disease.'))\n",
        "\n",
        "display(Markdown('$\\ $ '))\n",
        "\n",
        "\n",
        "\n",
        "display(Markdown(r'$PPV=\\dfrac{p(HIV)p(pos|HIV)}{p(HIV)p(pos|HIV)+p(no\\ HIV)p(pos|no\\ HIV)} =\\quad$'+str(PPV)))\n"
      ]
    }
  ]
}